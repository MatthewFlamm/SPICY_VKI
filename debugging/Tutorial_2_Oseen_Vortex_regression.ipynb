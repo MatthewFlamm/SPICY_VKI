{
 "cells": [
  {
   "cell_type": "markdown",
   "id": "070d2146",
   "metadata": {},
   "source": [
    "# SPICY Tutorial 2\n",
    "This is the second tutorial exercise which deals with the regression of a scalar quantity. In this case, we use it for the two velocity components of an Oseen vortex. \n",
    "\n",
    "We start by importing the relevant packages and customizing the plots. For this, LaTeX needs to be installed."
   ]
  },
  {
   "cell_type": "code",
   "execution_count": 1,
   "id": "134e5b20",
   "metadata": {},
   "outputs": [],
   "source": [
    "import numpy as np\n",
    "import matplotlib.pyplot as plt \n",
    "from spicy_class_2103 import spicy \n",
    "\n",
    "# This is for plot customization\n",
    "fontsize = 16\n",
    "plt.rc('text', usetex=True)      \n",
    "plt.rc('font', family='serif')\n",
    "plt.rcParams['xtick.labelsize'] = fontsize\n",
    "plt.rcParams['ytick.labelsize'] = fontsize\n",
    "plt.rcParams['axes.labelsize'] = fontsize\n",
    "plt.rcParams['legend.fontsize'] = fontsize\n",
    "plt.rcParams['font.size'] = fontsize"
   ]
  },
  {
   "cell_type": "markdown",
   "id": "d8781fc6",
   "metadata": {},
   "source": [
    "We define our domain boundaries and generate our synthetic data points. The data is sampled in $(x,y) = [-0.5,0.5]\\times[-0.5,0.5]$.\n",
    "\n",
    "The vortex is expressed as $u_r = 0$ and $u_\\theta = \\Gamma/2 \\pi r \\left( 1- e ^{-r^2/c_\\theta}\\right)$.\n",
    "\n",
    "Here, $c_\\theta = r_c^2 / \\gamma$, with $r_c = 0.1$ the radial distance of maximum velocity, $\\gamma = 1.25643$ and $\\Gamma = 10$ the dimensionless circulation."
   ]
  },
  {
   "cell_type": "code",
   "execution_count": 2,
   "id": "3e7f0673",
   "metadata": {},
   "outputs": [],
   "source": [
    "# Fix the random seed to ensure reproducibility\n",
    "np.random.seed(42)\n",
    "\n",
    "# Number of particles\n",
    "n_p = 5000\n",
    "\n",
    "# Define the domain boundaries and flow properties\n",
    "x1_hat, x2_hat = -0.5, 0.5 # m, m\n",
    "y1_hat, y2_hat = -0.5, 0.5 # m, m\n",
    "rho = 1 # kg/m^3\n",
    "mu = 0 # Pa s\n",
    "\n",
    "# Generate the random points\n",
    "X = np.random.random(n_p)*(x2_hat - x1_hat) + x1_hat\n",
    "Y = np.random.random(n_p)*(y2_hat - y1_hat) + y1_hat\n",
    "\n",
    "# Compute the radius and angle in the 2D domain\n",
    "r = np.sqrt(X**2 + Y**2)\n",
    "theta = np.arctan2(Y, X)\n",
    "\n",
    "# Hyperparameters of the vortex\n",
    "Gamma = 10\n",
    "r_c = 0.1\n",
    "gamma = 1.256431\n",
    "c_theta = r_c**2/gamma\n",
    "\n",
    "# Compute the velocity field\n",
    "u_theta = Gamma / (2*np.pi*r) * (1 - np.exp(-r**2 / (r_c**2 / gamma)))\n",
    "U = np.sin(theta) * u_theta\n",
    "V = -np.cos(theta) * u_theta \n",
    "\n",
    "# Add 10% noise to it\n",
    "q = 0.1\n",
    "U_noise = U * (1 + q*np.random.uniform(-1, 1, size = U.shape))\n",
    "V_noise = V * (1 + q*np.random.uniform(-1, 1, size = V.shape))\n"
   ]
  },
  {
   "cell_type": "markdown",
   "id": "36e1a44c",
   "metadata": {},
   "source": [
    "## Velocity regression\n",
    "\n",
    "We start with the regression of the velocity field.\n",
    "\n",
    "#### Step 1: Initialize the SPICY class"
   ]
  },
  {
   "cell_type": "code",
   "execution_count": 3,
   "id": "873d6798",
   "metadata": {},
   "outputs": [],
   "source": [
    "SP_vel = spicy([U_noise], [X,Y], basis='gauss')"
   ]
  },
  {
   "cell_type": "markdown",
   "id": "4a58f1b2",
   "metadata": {},
   "source": [
    "#### Step 2: Peform the clustering"
   ]
  },
  {
   "cell_type": "code",
   "execution_count": 4,
   "id": "ea8ac2aa",
   "metadata": {},
   "outputs": [
    {
     "name": "stdout",
     "output_type": "stream",
     "text": [
      "Clustering level 0 completed\n",
      "Clustering level 1 completed\n"
     ]
    }
   ],
   "source": [
    "SP_vel.clustering([6,50], r_mM=[0.05,0.7], eps_l=0.88)"
   ]
  },
  {
   "cell_type": "markdown",
   "id": "4759989b",
   "metadata": {},
   "source": [
    "#### Step 3: Define the boundary conditions\n",
    "In this case, we do not have any boundary conditions as there are no walls of the domain where we would have zero velocity."
   ]
  },
  {
   "cell_type": "code",
   "execution_count": 5,
   "id": "08d37643",
   "metadata": {
    "scrolled": false
   },
   "outputs": [
    {
     "ename": "AttributeError",
     "evalue": "'spicy' object has no attribute 'n_x'",
     "output_type": "error",
     "traceback": [
      "\u001b[1;31m---------------------------------------------------------------------------\u001b[0m",
      "\u001b[1;31mAttributeError\u001b[0m                            Traceback (most recent call last)",
      "\u001b[1;32m~\\AppData\\Local\\Temp/ipykernel_19588/3023544551.py\u001b[0m in \u001b[0;36m<module>\u001b[1;34m\u001b[0m\n\u001b[1;32m----> 1\u001b[1;33m \u001b[0mSP_vel\u001b[0m\u001b[1;33m.\u001b[0m\u001b[0mscalar_constraints\u001b[0m\u001b[1;33m(\u001b[0m\u001b[1;33m)\u001b[0m\u001b[1;33m\u001b[0m\u001b[1;33m\u001b[0m\u001b[0m\n\u001b[0m",
      "\u001b[1;32m~\\Desktop\\transfer2\\spicy_class_2103.py\u001b[0m in \u001b[0;36mscalar_constraints\u001b[1;34m(self, DIR, NEU, extra_RBF)\u001b[0m\n\u001b[0;32m    454\u001b[0m             \u001b[0mself\u001b[0m\u001b[1;33m.\u001b[0m\u001b[0mX_N\u001b[0m \u001b[1;33m=\u001b[0m \u001b[0mself\u001b[0m\u001b[1;33m.\u001b[0m\u001b[0mX_N\u001b[0m\u001b[1;33m[\u001b[0m\u001b[0mshare_points_neumann_before_and_after_reduction\u001b[0m\u001b[1;33m]\u001b[0m\u001b[1;33m\u001b[0m\u001b[1;33m\u001b[0m\u001b[0m\n\u001b[0;32m    455\u001b[0m             \u001b[0mself\u001b[0m\u001b[1;33m.\u001b[0m\u001b[0mY_N\u001b[0m \u001b[1;33m=\u001b[0m \u001b[0mself\u001b[0m\u001b[1;33m.\u001b[0m\u001b[0mY_N\u001b[0m\u001b[1;33m[\u001b[0m\u001b[0mshare_points_neumann_before_and_after_reduction\u001b[0m\u001b[1;33m]\u001b[0m\u001b[1;33m\u001b[0m\u001b[1;33m\u001b[0m\u001b[0m\n\u001b[1;32m--> 456\u001b[1;33m             \u001b[0mself\u001b[0m\u001b[1;33m.\u001b[0m\u001b[0mn_x\u001b[0m \u001b[1;33m=\u001b[0m \u001b[0mself\u001b[0m\u001b[1;33m.\u001b[0m\u001b[0mn_x\u001b[0m\u001b[1;33m[\u001b[0m\u001b[0mshare_points_neumann_before_and_after_reduction\u001b[0m\u001b[1;33m]\u001b[0m\u001b[1;33m\u001b[0m\u001b[1;33m\u001b[0m\u001b[0m\n\u001b[0m\u001b[0;32m    457\u001b[0m             \u001b[0mself\u001b[0m\u001b[1;33m.\u001b[0m\u001b[0mn_y\u001b[0m \u001b[1;33m=\u001b[0m \u001b[0mself\u001b[0m\u001b[1;33m.\u001b[0m\u001b[0mn_y\u001b[0m\u001b[1;33m[\u001b[0m\u001b[0mshare_points_neumann_before_and_after_reduction\u001b[0m\u001b[1;33m]\u001b[0m\u001b[1;33m\u001b[0m\u001b[1;33m\u001b[0m\u001b[0m\n\u001b[0;32m    458\u001b[0m             \u001b[0mself\u001b[0m\u001b[1;33m.\u001b[0m\u001b[0mc_N\u001b[0m \u001b[1;33m=\u001b[0m \u001b[0mself\u001b[0m\u001b[1;33m.\u001b[0m\u001b[0mc_N\u001b[0m\u001b[1;33m[\u001b[0m\u001b[0mshare_points_neumann_before_and_after_reduction\u001b[0m\u001b[1;33m]\u001b[0m\u001b[1;33m\u001b[0m\u001b[1;33m\u001b[0m\u001b[0m\n",
      "\u001b[1;31mAttributeError\u001b[0m: 'spicy' object has no attribute 'n_x'"
     ]
    }
   ],
   "source": [
    "SP_vel.scalar_constraints()"
   ]
  },
  {
   "cell_type": "markdown",
   "id": "3baa7490",
   "metadata": {},
   "source": [
    "We can look at the clustering result, the left-hand side shows the RBFs in 2D, the right hand side shows the diameter distribution."
   ]
  },
  {
   "cell_type": "code",
   "execution_count": null,
   "id": "8f013535",
   "metadata": {},
   "outputs": [],
   "source": [
    "SP_vel.plot_RBFs()"
   ]
  },
  {
   "cell_type": "markdown",
   "id": "2c03b6a2",
   "metadata": {},
   "source": [
    "#### Step 4: Assemble the linear system\n",
    "We assemble the regression, with a penalty for a divergence-free flow"
   ]
  },
  {
   "cell_type": "code",
   "execution_count": null,
   "id": "5bb5b13f",
   "metadata": {},
   "outputs": [],
   "source": [
    "SP_vel.Assembly_Regression()"
   ]
  },
  {
   "cell_type": "markdown",
   "id": "eb106b3b",
   "metadata": {},
   "source": [
    "#### Step 5: Solve the linear system\n",
    "We solve the system, witha fixed condition number of $10^8$ for the matrix $A$. The matrix $M$ is only regularized in this way if the cholesky factorization fails. This is the case here, so we make use of the regularization for $M$ as well with the same conditioning number."
   ]
  },
  {
   "cell_type": "code",
   "execution_count": null,
   "id": "0bbd3ec6",
   "metadata": {},
   "outputs": [],
   "source": [
    "SP_vel.Solve(K_cond=1e8)"
   ]
  },
  {
   "cell_type": "markdown",
   "id": "abbfc398",
   "metadata": {},
   "source": [
    "#### Step 6: Obtain the solution\n",
    "Here, we use the same grid points as before for an easier comparison, However, this grid can be completely arbitrary!"
   ]
  },
  {
   "cell_type": "code",
   "execution_count": null,
   "id": "05f3546f",
   "metadata": {},
   "outputs": [],
   "source": [
    "solution_velocity = SP_vel.Get_Sol(grid=[X,Y])\n",
    "# Extract individual velocity components\n",
    "U_calc = solution_velocity"
   ]
  },
  {
   "cell_type": "markdown",
   "id": "9fa85e8e",
   "metadata": {},
   "source": [
    "We can now compute the error in the magnitude of $u$, which is below 1%."
   ]
  },
  {
   "cell_type": "code",
   "execution_count": null,
   "id": "593a12e3",
   "metadata": {},
   "outputs": [],
   "source": [
    "error_u = np.linalg.norm(U_calc - U) / np.linalg.norm(U)\n",
    "print('Velocity error in  u: {0:.3f}%'.format(error_u*100))"
   ]
  },
  {
   "cell_type": "markdown",
   "id": "85fdaf43",
   "metadata": {},
   "source": [
    "We can also use the same clustering of $u$ to perform the regression for $v$. For this, we are accessing the internal variables of SPICY, i.e. they are overwritten. Of course, it would also be possible to initialize another class and repeat the clustering, but this is shorter."
   ]
  },
  {
   "cell_type": "code",
   "execution_count": null,
   "id": "95032877",
   "metadata": {},
   "outputs": [],
   "source": [
    "SP_vel.u = V_noise"
   ]
  },
  {
   "cell_type": "markdown",
   "id": "cb077a73",
   "metadata": {},
   "source": [
    "The constraints are the same as before and we can directly build the system and solve it."
   ]
  },
  {
   "cell_type": "code",
   "execution_count": null,
   "id": "6881e493",
   "metadata": {},
   "outputs": [],
   "source": [
    "# Assemble the system\n",
    "SP_vel.Assembly_Regression()\n",
    "# Solve it\n",
    "SP_vel.Solve(K_cond=1e8)\n",
    "# And obtain the solution of V\n",
    "solution_velocity = SP_vel.Get_Sol(grid=[X,Y])\n",
    "# Extract individual velocity components\n",
    "V_calc = solution_velocity\n",
    "# Compute the error and print it\n",
    "error_v = np.linalg.norm(V_calc - V) / np.linalg.norm(V)\n",
    "print('Velocity erro in v: {0:.3f}%'.format(error_v*100))"
   ]
  },
  {
   "cell_type": "markdown",
   "id": "1677132d",
   "metadata": {},
   "source": [
    "We can now also compute the magnitude of the velocity and its error."
   ]
  },
  {
   "cell_type": "code",
   "execution_count": null,
   "id": "aeeb2378",
   "metadata": {},
   "outputs": [],
   "source": [
    "# Magnitude of the RBF solution\n",
    "U_magn_calc = np.sqrt(U_calc**2 + V_calc**2)\n",
    "# Compute the magnitude of the analytical solution\n",
    "U_magn = np.sqrt(U**2 + V**2)\n",
    "# Compute the error in the magnitude\n",
    "error_magn = np.linalg.norm(U_magn_calc - U_magn) / np.linalg.norm(U_magn)\n",
    "\n",
    "print('Total velocity error: {0:.3f}%'.format(error_magn*100))"
   ]
  },
  {
   "cell_type": "code",
   "execution_count": null,
   "id": "9fa1acaa",
   "metadata": {},
   "outputs": [],
   "source": [
    "fig, axes = plt.subplots(ncols=3, nrows=3, figsize=(12,12), dpi=100, sharex=True, sharey=True)\n",
    "axes[0,0].scatter(X, Y, c=U_calc, s=10)\n",
    "axes[1,0].scatter(X, Y, c=U, s=10)\n",
    "axes[2,0].scatter(X, Y, c=np.abs(U_calc-U), s=10) \n",
    "\n",
    "axes[0,1].scatter(X, Y, c=V_calc, s=10)\n",
    "axes[1,1].scatter(X, Y, c=V, s=10)\n",
    "axes[2,1].scatter(X, Y, c=np.abs(V_calc-V), s=10)  \n",
    "\n",
    "\n",
    "axes[0,2].scatter(X, Y, c=U_magn_calc, s=10)\n",
    "axes[1,2].scatter(X, Y, c=U_magn, s=10)\n",
    "axes[2,2].scatter(X, Y, c=np.abs(U_magn_calc-U_magn), s=10) \n",
    "\n",
    "\n",
    "axes[0,0].set_ylabel('RBF Regression') \n",
    "axes[1,0].set_ylabel('Ground truth')  \n",
    "axes[2,0].set_ylabel('Absolute difference') \n",
    "\n",
    "axes[0,0].set_title('$u$') \n",
    "axes[0,1].set_title('$v$')  \n",
    "axes[0,2].set_title('$||\\mathbf{u}||_2^2$')         \n",
    "for ax in axes.flatten():\n",
    "    ax.set_aspect(1)          \n",
    "fig.tight_layout()     "
   ]
  },
  {
   "cell_type": "markdown",
   "id": "3bc652b6",
   "metadata": {},
   "source": [
    "In this case, we carried out the regression of the components individually, without physical constraints due to the nature of the flow. This type of regresssion is usually best done for regressions of a scalar, such as a temperature or pressure field. It would also be possible to include Dirichlet and Neumann boundary conditions for both of them. The problem required the solution of the matrix $A$ which is of size $n_b \\times n_b$. In the next tutorial, we couple the regression of the two velocity components which increases the size of $A$ to $2n_b \\times 2n_b$. This obviously increases the computational cost but it allows us to also consider divergence-free conditions for the regression of the velocity field. This reduces the overall error in both the magnitude as well as the individual components. Furthermore, it allows to solve the pressure poisson equation in the current framework of SPICY."
   ]
  }
 ],
 "metadata": {
  "kernelspec": {
   "display_name": "Python 3 (ipykernel)",
   "language": "python",
   "name": "python3"
  },
  "language_info": {
   "codemirror_mode": {
    "name": "ipython",
    "version": 3
   },
   "file_extension": ".py",
   "mimetype": "text/x-python",
   "name": "python",
   "nbconvert_exporter": "python",
   "pygments_lexer": "ipython3",
   "version": "3.9.7"
  }
 },
 "nbformat": 4,
 "nbformat_minor": 5
}
